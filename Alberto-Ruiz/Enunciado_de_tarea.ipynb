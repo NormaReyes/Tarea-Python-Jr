{
 "cells": [
  {
   "cell_type": "markdown",
   "metadata": {},
   "source": [
    "## Objetivo del código.\n",
    "\n",
    "El código de este ejercicio tiene por objetivo el de formar un sistema básico de altas de alumnos con los siguientes campos datos:\n",
    "\n",
    "* Nombre.\n",
    "* Primer apellido.\n",
    "* Segundo apellido (opcional).\n",
    "* Carrera.\n",
    "* Semestre.\n",
    "* Promedio.\n",
    "* Si se encuentra al corriente en sus pagos mediante un objeto de tipo *bool*.\n",
    "\n",
    "Existen ciertas reglas que deben de reforzarse:\n",
    "\n",
    "* Cada campo debe de corresponder de un tipo de dato específico.\n",
    "* El promedio del alumno debe de ser una cantidad entre 0 y 10.\n",
    "* Los semestres son enteros mayores o iguales a 1.\n",
    "* Sólo se pueden ingresar carreras registradas.\n",
    "* Aún cuando el campo Segundo apellido es opcional, es necesario pedir confirmación de que se deja en blanco.\n",
    "\n",
    "\n",
    "## Ejecución:\n",
    "\n",
    "Al ejecutar el código, se pedirá al usuario que ingrese el número de alumnos a dar de alta y el sistema procederá a pedir y validar cada campo de datos del alumno.\n",
    "Una vez terminada la captura, desplegará los datos de todos los registros."
   ]
  },
  {
   "cell_type": "markdown",
   "metadata": {},
   "source": [
    "## El paquete *caso*.\n",
    "\n",
    "Este paquete incluye varios módulos que realizarán las actividades descritas con los datos en memoria."
   ]
  },
  {
   "cell_type": "code",
   "execution_count": 11,
   "metadata": {},
   "outputs": [
    {
     "data": {
      "text/plain": [
       "list"
      ]
     },
     "execution_count": 11,
     "metadata": {},
     "output_type": "execute_result"
    }
   ],
   "source": [
    "import caso.datos as data\n",
    "type(data.alumnos)"
   ]
  },
  {
   "cell_type": "code",
   "execution_count": 3,
   "metadata": {},
   "outputs": [
    {
     "name": "stdout",
     "output_type": "stream",
     "text": [
      "Número de alumnos:1\n",
      "1\n",
      "\n",
      "\n",
      "Alumno nuevo 1\n",
      "Ingrese nombre: as\n",
      "Este es el campo: nombre\n",
      "Ingrese primer apellido: as\n",
      "Este es el campo: primer apellido\n",
      "Ingrese segundo apellido: as\n",
      "Este es el campo: segundo apellido\n",
      "Ingrese carrera: Sistemas\n",
      "Este es el campo: carrera\n",
      "Ingrese semestre: 1\n",
      "Este es el campo: semestre\n",
      "Este es el dato: 1\n",
      "Ingrese promedio: \n",
      "Este es el campo: promedio\n",
      "Ingrese promedio: 1\n",
      "Este es el campo: promedio\n",
      "Este es el dato: 1\n",
      "Ingrese al corriente: True\n",
      "Este es el campo: al corriente\n",
      "Este es el dato: True\n",
      "\n",
      "Alumno:  1\n",
      "Nombre: Eduardo\n",
      "Primer Apellido: Sánchez\n",
      "Segundo Apellido: Ramos\n",
      "Carrera: Sistemas\n",
      "Semestre: 6\n",
      "Promedio: 7.5\n",
      "Al Corriente: True\n",
      "\n",
      "Alumno:  2\n",
      "Nombre: Alberto\n",
      "Primer Apellido: Durán\n",
      "Segundo Apellido: Montellano\n",
      "Carrera: Derecho\n",
      "Semestre: 2\n",
      "Promedio: 6.3\n",
      "Al Corriente: True\n",
      "\n",
      "Alumno:  3\n",
      "Nombre: Joaquín\n",
      "Primer Apellido: Ausencio\n",
      "Segundo Apellido: Olvera\n",
      "Carrera: Actuaría\n",
      "Semestre: 2\n",
      "Promedio: 5.2\n",
      "Al Corriente: False\n",
      "\n",
      "Alumno:  4\n",
      "Nombre: Emiliano\n",
      "Primer Apellido: Rentería\n",
      "Segundo Apellido: \n",
      "Carrera: Administración\n",
      "Semestre: 4\n",
      "Promedio: 8.7\n",
      "Al Corriente: True\n",
      "\n",
      "Alumno:  5\n",
      "Nombre: Patricio\n",
      "Primer Apellido: Ayala\n",
      "Segundo Apellido: Arriaga\n",
      "Carrera: Sistemas\n",
      "Semestre: 5\n",
      "Promedio: 8.0\n",
      "Al Corriente: True\n",
      "\n",
      "Alumno:  6\n",
      "Nombre: as\n",
      "Primer Apellido: as\n",
      "Segundo Apellido: as\n",
      "Carrera: Sistemas\n",
      "Semestre: 1\n",
      "Promedio: 1.0\n",
      "Al Corriente: True\n"
     ]
    }
   ],
   "source": [
    "caso.principal()"
   ]
  },
  {
   "cell_type": "markdown",
   "metadata": {},
   "source": [
    "## El paquete *caso_nuevo*.\n",
    "Este paquete incluye varios módulos que realizarán las actividades descritas, pero los datos son almacenados en el archivo de texto en la ruta local *caso_nuevo/alumnos.txt* como una sucesión de líneas en donde cada una de ellas corresponden a un objeto de tipo *dict*."
   ]
  },
  {
   "cell_type": "code",
   "execution_count": 4,
   "metadata": {},
   "outputs": [
    {
     "name": "stderr",
     "output_type": "stream",
     "text": [
      "ERROR:root:Line magic function `%cat` not found.\n"
     ]
    }
   ],
   "source": [
    "%cat caso_nuevo/alumnos.txt"
   ]
  },
  {
   "cell_type": "code",
   "execution_count": 5,
   "metadata": {},
   "outputs": [
    {
     "ename": "FileNotFoundError",
     "evalue": "[Errno 2] No such file or directory: '/caso_nuevo/alumnos.txt'",
     "output_type": "error",
     "traceback": [
      "\u001b[1;31m---------------------------------------------------------------------------\u001b[0m",
      "\u001b[1;31mFileNotFoundError\u001b[0m                         Traceback (most recent call last)",
      "\u001b[1;32m<ipython-input-5-7c8ee6d1280b>\u001b[0m in \u001b[0;36m<module>\u001b[1;34m()\u001b[0m\n\u001b[1;32m----> 1\u001b[1;33m \u001b[1;32mimport\u001b[0m \u001b[0mcaso_nuevo\u001b[0m\u001b[1;33m\u001b[0m\u001b[0m\n\u001b[0m",
      "\u001b[1;32m~\\Desktop\\Pythonista-Labsol-master\\caso_nuevo\\__init__.py\u001b[0m in \u001b[0;36m<module>\u001b[1;34m()\u001b[0m\n\u001b[0;32m     28\u001b[0m     \u001b[0mprint\u001b[0m\u001b[1;33m(\u001b[0m\u001b[0mfile\u001b[0m\u001b[1;33m.\u001b[0m\u001b[0mname\u001b[0m\u001b[1;33m)\u001b[0m\u001b[1;33m\u001b[0m\u001b[0m\n\u001b[0;32m     29\u001b[0m \u001b[1;33m\u001b[0m\u001b[0m\n\u001b[1;32m---> 30\u001b[1;33m \u001b[0mreadFile\u001b[0m\u001b[1;33m(\u001b[0m\u001b[1;33m)\u001b[0m\u001b[1;33m\u001b[0m\u001b[0m\n\u001b[0m\u001b[0;32m     31\u001b[0m \u001b[1;33m\u001b[0m\u001b[0m\n",
      "\u001b[1;32m~\\Desktop\\Pythonista-Labsol-master\\caso_nuevo\\__init__.py\u001b[0m in \u001b[0;36mreadFile\u001b[1;34m()\u001b[0m\n\u001b[0;32m     24\u001b[0m \u001b[1;32mdef\u001b[0m \u001b[0mreadFile\u001b[0m\u001b[1;33m(\u001b[0m\u001b[1;33m)\u001b[0m\u001b[1;33m:\u001b[0m\u001b[1;33m\u001b[0m\u001b[0m\n\u001b[0;32m     25\u001b[0m     \u001b[1;32mwith\u001b[0m \u001b[0mopen\u001b[0m\u001b[1;33m(\u001b[0m\u001b[1;34m\"caso_nuevo/alumnos.txt\"\u001b[0m\u001b[1;33m,\u001b[0m \u001b[1;34m\"r\"\u001b[0m\u001b[1;33m)\u001b[0m \u001b[1;32mas\u001b[0m \u001b[0mfile\u001b[0m\u001b[1;33m:\u001b[0m\u001b[1;33m\u001b[0m\u001b[0m\n\u001b[1;32m---> 26\u001b[1;33m         \u001b[0mfile\u001b[0m \u001b[1;33m=\u001b[0m \u001b[0mopen\u001b[0m\u001b[1;33m(\u001b[0m\u001b[1;34m\"/caso_nuevo/alumnos.txt\"\u001b[0m\u001b[1;33m,\u001b[0m \u001b[1;34m\"r\"\u001b[0m\u001b[1;33m)\u001b[0m\u001b[1;33m\u001b[0m\u001b[0m\n\u001b[0m\u001b[0;32m     27\u001b[0m \u001b[1;33m\u001b[0m\u001b[0m\n\u001b[0;32m     28\u001b[0m     \u001b[0mprint\u001b[0m\u001b[1;33m(\u001b[0m\u001b[0mfile\u001b[0m\u001b[1;33m.\u001b[0m\u001b[0mname\u001b[0m\u001b[1;33m)\u001b[0m\u001b[1;33m\u001b[0m\u001b[0m\n",
      "\u001b[1;31mFileNotFoundError\u001b[0m: [Errno 2] No such file or directory: '/caso_nuevo/alumnos.txt'"
     ]
    }
   ],
   "source": [
    "import caso_nuevo"
   ]
  },
  {
   "cell_type": "code",
   "execution_count": 6,
   "metadata": {},
   "outputs": [
    {
     "ename": "NameError",
     "evalue": "name 'caso_nuevo' is not defined",
     "output_type": "error",
     "traceback": [
      "\u001b[1;31m---------------------------------------------------------------------------\u001b[0m",
      "\u001b[1;31mNameError\u001b[0m                                 Traceback (most recent call last)",
      "\u001b[1;32m<ipython-input-6-30120528bf21>\u001b[0m in \u001b[0;36m<module>\u001b[1;34m()\u001b[0m\n\u001b[1;32m----> 1\u001b[1;33m \u001b[0mcaso_nuevo\u001b[0m\u001b[1;33m.\u001b[0m\u001b[0mprincipal\u001b[0m\u001b[1;33m(\u001b[0m\u001b[1;33m)\u001b[0m\u001b[1;33m\u001b[0m\u001b[0m\n\u001b[0m",
      "\u001b[1;31mNameError\u001b[0m: name 'caso_nuevo' is not defined"
     ]
    }
   ],
   "source": [
    "caso_nuevo.principal()"
   ]
  },
  {
   "cell_type": "code",
   "execution_count": 7,
   "metadata": {},
   "outputs": [
    {
     "name": "stderr",
     "output_type": "stream",
     "text": [
      "ERROR:root:Line magic function `%cat` not found.\n"
     ]
    }
   ],
   "source": [
    "%cat caso_nuevo/alumnos.txt"
   ]
  },
  {
   "cell_type": "markdown",
   "metadata": {},
   "source": [
    "## Tarea a realizar.\n",
    "\n",
    "* Lea, analice y comente el código de cada módulo.\n",
    "* Cree un nuevo módulo en cada paquete llamado *busqueda* que contenga la función *buscar()* que realice busquedas de coincidencias de una cadena de caracteres, la cual se ingresa como argumento de dicha función. Dicha búsqueda se realizará en los campos *Nombre*, *Primer apellido* y *Segundo apellido*. La función debe de regresar un objeto de tipo *tuple* que contenga todos los datos de los registros que coincidan."
   ]
  },
  {
   "cell_type": "code",
   "execution_count": 25,
   "metadata": {},
   "outputs": [
    {
     "name": "stdout",
     "output_type": "stream",
     "text": [
      "age\n"
     ]
    }
   ],
   "source": [
    "#Just an example how the dictionary may look like\n",
    "myDict = {'age': ['12'], 'address': ['34 Main Street, 212 First Avenue'],\n",
    "      'firstName': ['Alan', 'Mary-Ann'], 'lastName': ['Stone', 'Lee']}\n",
    "\n",
    "def search(values, searchFor):\n",
    "    for k in values:\n",
    "        for v in values[k]:\n",
    "            if searchFor in v:\n",
    "                return k\n",
    "    return None\n",
    "\n",
    "#Checking if string 'Mary' exists in dictionary value\n",
    "print (search(myDict, '2')) \n",
    "#prints firstName"
   ]
  },
  {
   "cell_type": "code",
   "execution_count": null,
   "metadata": {
    "collapsed": true
   },
   "outputs": [],
   "source": []
  }
 ],
 "metadata": {
  "kernelspec": {
   "display_name": "Python 3",
   "language": "python",
   "name": "python3"
  },
  "language_info": {
   "codemirror_mode": {
    "name": "ipython",
    "version": 3
   },
   "file_extension": ".py",
   "mimetype": "text/x-python",
   "name": "python",
   "nbconvert_exporter": "python",
   "pygments_lexer": "ipython3",
   "version": "3.6.3"
  }
 },
 "nbformat": 4,
 "nbformat_minor": 2
}
